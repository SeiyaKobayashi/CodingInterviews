{
 "cells": [
  {
   "cell_type": "code",
   "execution_count": 11,
   "metadata": {},
   "outputs": [
    {
     "name": "stdout",
     "output_type": "stream",
     "text": [
      "['A', 'B', 'E', 'C', 'D', 'F', 'G']\n"
     ]
    }
   ],
   "source": [
    "# BFS #\n",
    "\n",
    "\"\"\"\n",
    "Given an undirected graph and the source node, Run BFS and print the result.\n",
    "e.g.               A\n",
    "                /  |  \\\n",
    "               B - E   C\n",
    "               |  /   / \\\n",
    "                D    F   G\n",
    "Input: graph above --> Output: A B E C D F G\n",
    "\"\"\"\n",
    "\n",
    "def BFS(g, s): \n",
    "    queue = []\n",
    "    visited = {}\n",
    "    bfs = []\n",
    "    for v in g:\n",
    "        visited[v] = False\n",
    "\n",
    "    queue.append(s) \n",
    "    visited[s] = True\n",
    "\n",
    "    while queue:  \n",
    "        s = queue.pop(0) \n",
    "        bfs.append(s) \n",
    "        for i in g[s]: \n",
    "            if visited[i] == False: \n",
    "                queue.append(i) \n",
    "                visited[i] = True\n",
    "    return bfs\n",
    "\n",
    "# Driver\n",
    "if __name__ == '__main__':\n",
    "    g = {'A': ['B', 'E', 'C'],\n",
    "         'B': ['A', 'D', 'E'],\n",
    "         'C': ['A', 'F', 'G'],\n",
    "         'D': ['B', 'E'],\n",
    "         'E': ['A', 'B','D'],\n",
    "         'F': ['C'],\n",
    "         'G': ['C']}\n",
    "    print(BFS(g, 'A'))"
   ]
  }
 ],
 "metadata": {
  "kernelspec": {
   "display_name": "Python 3",
   "language": "python",
   "name": "python3"
  },
  "language_info": {
   "codemirror_mode": {
    "name": "ipython",
    "version": 3
   },
   "file_extension": ".py",
   "mimetype": "text/x-python",
   "name": "python",
   "nbconvert_exporter": "python",
   "pygments_lexer": "ipython3",
   "version": "3.6.4"
  }
 },
 "nbformat": 4,
 "nbformat_minor": 2
}
