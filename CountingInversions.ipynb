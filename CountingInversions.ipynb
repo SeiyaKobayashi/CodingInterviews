{
 "cells": [
  {
   "cell_type": "code",
   "execution_count": 1,
   "metadata": {},
   "outputs": [
    {
     "name": "stdout",
     "output_type": "stream",
     "text": [
      "3\n",
      "3\n"
     ]
    }
   ],
   "source": [
    "# Counting Inversions #\n",
    "\n",
    "# Given a list of integers, count the number of inversions it has.\n",
    "# e.g. input: [2, 4, 1, 3, 5] --> output: 3 ((2, 1), (4, 1), (4, 3))\n",
    "\n",
    "# Brute Force: O(n^2)\n",
    "def countInversions_1(L): \n",
    "    if len(L) == 0:\n",
    "        return 0\n",
    "    \n",
    "    invCount = 0\n",
    "    for i in range(len(L)):\n",
    "        for j in range(i+1, len(L)):\n",
    "            if L[j] < L[i]:\n",
    "                invCount += 1            \n",
    "    return invCount\n",
    "\n",
    "# Divide and Conquer(i.e. using Merge Sort): O(nlogn)\n",
    "def countInversions_2(L):\n",
    "    invCount = 0\n",
    "    if len(L) <= 1:\n",
    "        return 0\n",
    "    else:\n",
    "        m = len(L) // 2\n",
    "        l = L[:m]\n",
    "        r = L[m:]\n",
    "\n",
    "        # Divide\n",
    "        lc = countInversions_2(l)\n",
    "        rc = countInversions_2(r)\n",
    "\n",
    "        # Combine\n",
    "        i = 0\n",
    "        j = 0\n",
    "        k = 0\n",
    "        invCount = 0 + lc + rc\n",
    "\n",
    "        while i < len(l) and j < len(r):\n",
    "            if l[i] <= r[j]:\n",
    "                L[k] = l[i]\n",
    "                i += 1\n",
    "            else:\n",
    "                L[k] = r[j]\n",
    "                j += 1\n",
    "                invCount += len(l[i:])\n",
    "            k += 1\n",
    "\n",
    "        while i < len(l):\n",
    "            L[k] = l[i]\n",
    "            i += 1\n",
    "            k += 1\n",
    "\n",
    "        while j < len(r):\n",
    "            L[k] = r[j]\n",
    "            j += 1 \n",
    "            k += 1\n",
    "            \n",
    "    return invCount \n",
    "    \n",
    "# Driver\n",
    "if __name__ == '__main__':\n",
    "    L = [2, 4, 1, 3, 5]\n",
    "    print(countInversions_1(L))\n",
    "    print(countInversions_2(L))"
   ]
  },
  {
   "cell_type": "code",
   "execution_count": null,
   "metadata": {},
   "outputs": [],
   "source": []
  }
 ],
 "metadata": {
  "kernelspec": {
   "display_name": "Python 3",
   "language": "python",
   "name": "python3"
  },
  "language_info": {
   "codemirror_mode": {
    "name": "ipython",
    "version": 3
   },
   "file_extension": ".py",
   "mimetype": "text/x-python",
   "name": "python",
   "nbconvert_exporter": "python",
   "pygments_lexer": "ipython3",
   "version": "3.6.4"
  }
 },
 "nbformat": 4,
 "nbformat_minor": 2
}
